{
 "cells": [
  {
   "cell_type": "code",
   "execution_count": 1,
   "id": "3625dc45",
   "metadata": {},
   "outputs": [],
   "source": [
    "# Calculate the monthly payments of a fixed term mortgage over given Nth terms at a given interest rate. \n",
    "# Also figure out how long it will take the user to pay back the loan. \n",
    "# For added complexity, add an option for users to select the compounding interval (Monthly, Weekly, Daily, Continually)."
   ]
  },
  {
   "cell_type": "code",
   "execution_count": 2,
   "id": "e5a06373",
   "metadata": {},
   "outputs": [],
   "source": [
    "#M # Total monthly payment\n",
    "#P # The total amount of your loan\n",
    "#I # Interest rate as monthly percentage\n",
    "#N # The total amount of months in your timeline for paying off your mortgage\n",
    "\n",
    "# M = P[i(1+i)^n / [(1 + i)^n-1]]"
   ]
  },
  {
   "cell_type": "code",
   "execution_count": 15,
   "id": "565e9deb",
   "metadata": {},
   "outputs": [
    {
     "name": "stdout",
     "output_type": "stream",
     "text": [
      "What is the total amount of your loan? 5000\n"
     ]
    }
   ],
   "source": [
    "p = input('What is the total amount of your loan? ')\n",
    "p = float(p)"
   ]
  },
  {
   "cell_type": "code",
   "execution_count": 16,
   "id": "50f6d8bd",
   "metadata": {},
   "outputs": [
    {
     "name": "stdout",
     "output_type": "stream",
     "text": [
      "What is your interest rate? .5\n"
     ]
    }
   ],
   "source": [
    "i = input('What is your interest rate? ')\n",
    "i = float(i)"
   ]
  },
  {
   "cell_type": "code",
   "execution_count": 23,
   "id": "40cba188",
   "metadata": {},
   "outputs": [
    {
     "name": "stdout",
     "output_type": "stream",
     "text": [
      "How many months do you need to pay off your loans? 12\n"
     ]
    }
   ],
   "source": [
    "n = input('How many months do you need to pay off your loans? ')\n",
    "n = int(n)"
   ]
  },
  {
   "cell_type": "code",
   "execution_count": 24,
   "id": "0e173344",
   "metadata": {},
   "outputs": [
    {
     "name": "stdout",
     "output_type": "stream",
     "text": [
      "The monthly mortgage payment is 2519.42\n"
     ]
    }
   ],
   "source": [
    "M = p * ((i * (1+i)**n) / ((1 + i)**n-1))\n",
    "print(\"The monthly mortgage payment is %.2f\" %M)"
   ]
  },
  {
   "cell_type": "code",
   "execution_count": null,
   "id": "5d3aa416",
   "metadata": {},
   "outputs": [],
   "source": []
  },
  {
   "cell_type": "code",
   "execution_count": null,
   "id": "7a178fef",
   "metadata": {},
   "outputs": [],
   "source": []
  },
  {
   "cell_type": "code",
   "execution_count": 25,
   "id": "6170c24a",
   "metadata": {},
   "outputs": [
    {
     "name": "stdout",
     "output_type": "stream",
     "text": [
      "Select the compounding interval: (Monthly, Weekly, Daily, Continually) Monthly\n"
     ]
    }
   ],
   "source": [
    "whichLoan = input(\"Select the compounding interval: (Monthly, Weekly, Daily, Continually) \")"
   ]
  },
  {
   "cell_type": "code",
   "execution_count": 26,
   "id": "d66b85d1",
   "metadata": {},
   "outputs": [],
   "source": [
    "# Weekly Payment\n",
    "# Take monthlyPayment * 12 = YearlyTotal\n",
    "# Divide Yearly Total/ 52 = Weekly payment"
   ]
  },
  {
   "cell_type": "code",
   "execution_count": 29,
   "id": "8a96324e",
   "metadata": {},
   "outputs": [
    {
     "name": "stdout",
     "output_type": "stream",
     "text": [
      "The weekly mortgage payment is 581.40\n"
     ]
    }
   ],
   "source": [
    "yearlyTotal = M * 12 \n",
    "weeklyPayment = yearlyTotal / 52\n",
    "print(\"The weekly mortgage payment is %.2f\" %weeklyPayment)"
   ]
  },
  {
   "cell_type": "code",
   "execution_count": null,
   "id": "37c5e3a2",
   "metadata": {},
   "outputs": [],
   "source": []
  }
 ],
 "metadata": {
  "kernelspec": {
   "display_name": "Python 3 (ipykernel)",
   "language": "python",
   "name": "python3"
  },
  "language_info": {
   "codemirror_mode": {
    "name": "ipython",
    "version": 3
   },
   "file_extension": ".py",
   "mimetype": "text/x-python",
   "name": "python",
   "nbconvert_exporter": "python",
   "pygments_lexer": "ipython3",
   "version": "3.9.7"
  }
 },
 "nbformat": 4,
 "nbformat_minor": 5
}
