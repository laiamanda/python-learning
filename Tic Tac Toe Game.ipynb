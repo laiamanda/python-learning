{
 "cells": [
  {
   "cell_type": "code",
   "execution_count": 4,
   "id": "d00364dc",
   "metadata": {},
   "outputs": [],
   "source": [
    "# Function that will display the tic tac toe board\n",
    "def display_board(board):\n",
    "    print(board[7] +' | ' + board[8] +' | '+board[9])\n",
    "    print(board[4] +' | ' + board[5] +' | '+board[6])\n",
    "    print(board[1] +' | ' + board[2] +' | '+board[3])"
   ]
  },
  {
   "cell_type": "code",
   "execution_count": 10,
   "id": "0e083152",
   "metadata": {},
   "outputs": [],
   "source": [
    "# Assign players their marks\n",
    "def player_input():\n",
    "    playerMarker = ''\n",
    "    \n",
    "    while playerMarker not in ['O','X']:\n",
    "        playerMarker = input(\"Choose your marker (O/X): \").upper()\n",
    "        \n",
    "    # Set the other player to be the opposite mark\n",
    "    if playerMarker == 'X':\n",
    "        return ('X', 'O') \n",
    "    else:\n",
    "        return('O','X')"
   ]
  },
  {
   "cell_type": "code",
   "execution_count": 12,
   "id": "478956d2",
   "metadata": {},
   "outputs": [],
   "source": [
    "# Set the marker at the board's position\n",
    "def place_marker(board, marker, position):\n",
    "    board[position] = marker"
   ]
  },
  {
   "cell_type": "code",
   "execution_count": 17,
   "id": "aedb4960",
   "metadata": {},
   "outputs": [],
   "source": [
    "# Check if there's a win\n",
    "def win_check(board, mark):\n",
    "    return (\n",
    "    # HORIZONTAL WINS\n",
    "    (board[7] == mark and board[8] == mark and board[9]== mark) or\n",
    "    (board[4] == mark and board[5] == mark and board[6]== mark) or\n",
    "    (board[1] == mark and board[2] == mark and board[3]== mark) or\n",
    "    # VERTICAL WINS\n",
    "    (board[7] == mark and board[4] == mark and board[1]== mark) or\n",
    "    (board[8] == mark and board[5] == mark and board[2]== mark) or\n",
    "    (board[9] == mark and board[6] == mark and board[3]== mark) or\n",
    "    # DIAGONAL WINS\n",
    "    (board[1] == mark and board[5] == mark and board[9]== mark) or\n",
    "    (board[9] == mark and board[5] == mark and board[1]== mark)\n",
    ")"
   ]
  },
  {
   "cell_type": "code",
   "execution_count": 18,
   "id": "add52364",
   "metadata": {},
   "outputs": [],
   "source": [
    "# Randomly decide which player will go first\n",
    "import random\n",
    "\n",
    "def choose_first():\n",
    "    randomValue = random.randint(1,2)\n",
    "    if randomValue == 1:\n",
    "        return 'Player1'\n",
    "    else:\n",
    "        return 'Player2'"
   ]
  },
  {
   "cell_type": "code",
   "execution_count": 19,
   "id": "13f9cafb",
   "metadata": {},
   "outputs": [],
   "source": [
    "# Check if there's a space on the board\n",
    "def space_check(board, position):\n",
    "    return board[position] == ''"
   ]
  },
  {
   "cell_type": "code",
   "execution_count": 21,
   "id": "e20b5f03",
   "metadata": {},
   "outputs": [],
   "source": [
    "# Check if the board is full\n",
    "def full_board_check(board):\n",
    "    for index in range(1,10):\n",
    "        # Check if there's a space on the position\n",
    "        if(space_check(board, index)):\n",
    "            return False\n",
    "    return True"
   ]
  },
  {
   "cell_type": "code",
   "execution_count": 22,
   "id": "9c459ff7",
   "metadata": {},
   "outputs": [],
   "source": [
    "# Ask for Player Position\n",
    "def player_choice(board):\n",
    "    position = 0\n",
    "    \n",
    "    # Check if it's in 1-9 and there's space\n",
    "    while position not in range(1, 10) or not space_check(board, position):\n",
    "        position = int(input(\"Choose your next step: (1-9): \"))\n",
    "    return position"
   ]
  },
  {
   "cell_type": "code",
   "execution_count": 23,
   "id": "e6377736",
   "metadata": {},
   "outputs": [],
   "source": [
    "# Play Again Function\n",
    "def replay():\n",
    "    choice = 'WRONG'\n",
    "    \n",
    "    while choice not in ['Y', 'N']:\n",
    "        choice = input(\"Play Again (Y/N): \").upper()\n",
    "    return choice == 'Y'"
   ]
  },
  {
   "cell_type": "code",
   "execution_count": 29,
   "id": "a3a23335",
   "metadata": {},
   "outputs": [
    {
     "name": "stdout",
     "output_type": "stream",
     "text": [
      "Tic Tac Toe Game!\n",
      " |  | \n",
      " |  | \n",
      " |  | \n",
      "Choose your marker (O/X): O\n",
      "Player2 will go first\n",
      "Ready to play? (Y/N): Y\n",
      " |  | \n",
      " |  | \n",
      " |  | \n",
      "Choose your next step: (1-9): 2\n",
      " |  | \n",
      " |  | \n",
      " | X | \n",
      "Choose your next step: (1-9): 9\n",
      " |  | O\n",
      " |  | \n",
      " | X | \n",
      "Choose your next step: (1-9): 3\n",
      " |  | O\n",
      " |  | \n",
      " | X | X\n",
      "Choose your next step: (1-9): 1\n",
      " |  | O\n",
      " |  | \n",
      "O | X | X\n",
      "Choose your next step: (1-9): 5\n",
      " |  | O\n",
      " | X | \n",
      "O | X | X\n",
      "Choose your next step: (1-9): 7\n",
      "O |  | O\n",
      " | X | \n",
      "O | X | X\n",
      "Choose your next step: (1-9): 4\n",
      "O |  | O\n",
      "X | X | \n",
      "O | X | X\n",
      "Choose your next step: (1-9): 8\n",
      "O | O | O\n",
      "X | X | \n",
      "O | X | X\n",
      "Player 1 Won!\n",
      "Play Again (Y/N): Y\n",
      " |  | \n",
      " |  | \n",
      " |  | \n",
      "Choose your marker (O/X): X\n",
      "Player1 will go first\n",
      "Ready to play? (Y/N): N\n",
      "Play Again (Y/N): N\n"
     ]
    }
   ],
   "source": [
    "# PLAY TIC TAC TOE\n",
    "print('Tic Tac Toe Game!')\n",
    "\n",
    "while True:\n",
    "    # Set up\n",
    "    board = ['']*10\n",
    "    display_board(board)\n",
    "    \n",
    "    player1_marker, player2_marker = player_input()\n",
    "    \n",
    "    # Pick which player will go first\n",
    "    turn = choose_first()\n",
    "    print(turn + ' will go first')\n",
    "    \n",
    "    play_game = input('Ready to play? (Y/N): ')\n",
    "    \n",
    "    if play_game == 'Y':\n",
    "        game_on = True\n",
    "    else:\n",
    "        game_on = False\n",
    "        \n",
    "    while game_on:\n",
    "        # Player 1 Turn\n",
    "        if turn == 'Player1':\n",
    "            # Show the board\n",
    "            display_board(board)\n",
    "            \n",
    "            # Choose a position\n",
    "            position = player_choice(board)\n",
    "            \n",
    "            # Place the marker on the position\n",
    "            place_marker(board, player1_marker, position)\n",
    "            \n",
    "            # Check if they won\n",
    "            if win_check(board, player1_marker):\n",
    "                display_board(board)\n",
    "                print('Player 1 Won!')\n",
    "                game_on = False\n",
    "            # Check if a Tie\n",
    "            else:\n",
    "                if full_board_check(board):\n",
    "                    display_board(board)\n",
    "                    print(\"It's a tie\")\n",
    "                    game_on = False\n",
    "                else:\n",
    "                    turn = 'Player2'\n",
    "        # Player 2 Turn\n",
    "        else:\n",
    "            # Show the board\n",
    "            display_board(board)\n",
    "            \n",
    "            # Choose a position\n",
    "            position = player_choice(board)\n",
    "            \n",
    "            # Place the marker on the position\n",
    "            place_marker(board, player2_marker, position)\n",
    "            \n",
    "            # Check if they won\n",
    "            if win_check(board, player2_marker):\n",
    "                display_board(board)\n",
    "                print('Player 2 Won!')\n",
    "                game_on = False\n",
    "            # Check if a Tie\n",
    "            else:\n",
    "                if full_board_check(board):\n",
    "                    display_board(board)\n",
    "                    print(\"It's a tie\")\n",
    "                    game_on = False\n",
    "                else:\n",
    "                    turn = 'Player1'\n",
    "    # If replay is N, Break\n",
    "    if not replay():\n",
    "        break"
   ]
  },
  {
   "cell_type": "markdown",
   "id": "2642811d",
   "metadata": {},
   "source": [
    "# Testing Area"
   ]
  },
  {
   "cell_type": "code",
   "execution_count": 16,
   "id": "87557a70",
   "metadata": {},
   "outputs": [],
   "source": [
    "# testBoard = ['#','X','O','X','O','X','O','X','O','X']\n",
    "# display_board(testBoard)\n",
    "\n",
    "# player_input()\n",
    "\n",
    "# place_marker(testBoard, 'B', 2)\n",
    "# display_board(testBoard)"
   ]
  },
  {
   "cell_type": "code",
   "execution_count": null,
   "id": "9ce96e7e",
   "metadata": {},
   "outputs": [],
   "source": []
  }
 ],
 "metadata": {
  "kernelspec": {
   "display_name": "Python 3 (ipykernel)",
   "language": "python",
   "name": "python3"
  },
  "language_info": {
   "codemirror_mode": {
    "name": "ipython",
    "version": 3
   },
   "file_extension": ".py",
   "mimetype": "text/x-python",
   "name": "python",
   "nbconvert_exporter": "python",
   "pygments_lexer": "ipython3",
   "version": "3.9.7"
  }
 },
 "nbformat": 4,
 "nbformat_minor": 5
}
