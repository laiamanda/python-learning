{
 "cells": [
  {
   "cell_type": "markdown",
   "metadata": {},
   "source": [
    "___\n",
    "\n",
    "<a href='https://www.udemy.com/user/joseportilla/'><img src='../Pierian_Data_Logo.png'/></a>\n",
    "___\n",
    "<center><em>Content Copyright by Pierian Data</em></center>"
   ]
  },
  {
   "cell_type": "markdown",
   "metadata": {},
   "source": [
    "# Milestone Project 1: Walkthrough Steps Workbook\n",
    "\n",
    "Below is a set of steps for you to follow to try to create the Tic Tac Toe Milestone Project game!"
   ]
  },
  {
   "cell_type": "markdown",
   "metadata": {},
   "source": [
    "#### Some suggested tools before you get started:\n",
    "To take input from a user:\n",
    "\n",
    "    player1 = input(\"Please pick a marker 'X' or 'O'\")\n",
    "    \n",
    "Note that input() takes in a string. If you need an integer value, use\n",
    "\n",
    "    position = int(input('Please enter a number'))\n",
    "    \n",
    "<br>To clear the screen between moves:\n",
    "\n",
    "    from IPython.display import clear_output\n",
    "    clear_output()\n",
    "    \n",
    "Note that clear_output() will only work in jupyter. To clear the screen in other IDEs, consider:\n",
    "\n",
    "    print('\\n'*100)\n",
    "    \n",
    "This scrolls the previous board up out of view. Now on to the program!"
   ]
  },
  {
   "cell_type": "markdown",
   "metadata": {},
   "source": [
    "**Step 1: Write a function that can print out a board. Set up your board as a list, where each index 1-9 corresponds with a number on a number pad, so you get a 3 by 3 board representation.**"
   ]
  },
  {
   "cell_type": "code",
   "execution_count": 33,
   "metadata": {},
   "outputs": [],
   "source": [
    "from IPython.display import clear_output\n",
    "\n",
    "def display_board(board):\n",
    "    # clear_output()\n",
    "    print(board[7] +' | ' + board[8] +' | '+board[9])\n",
    "    print(board[4] +' | ' + board[5] +' | '+board[6])\n",
    "    print(board[1] +' | ' + board[2] +' | '+board[3])\n"
   ]
  },
  {
   "cell_type": "markdown",
   "metadata": {},
   "source": [
    "**TEST Step 1:** run your function on a test version of the board list, and make adjustments as necessary"
   ]
  },
  {
   "cell_type": "code",
   "execution_count": 25,
   "metadata": {},
   "outputs": [
    {
     "name": "stdout",
     "output_type": "stream",
     "text": [
      "X | O | X\n",
      "O | X | O\n",
      "X | O | X\n"
     ]
    }
   ],
   "source": [
    "test_board = ['#','X','O','X','O','X','O','X','O','X']\n",
    "display_board(test_board)"
   ]
  },
  {
   "cell_type": "markdown",
   "metadata": {},
   "source": [
    "**Step 2: Write a function that can take in a player input and assign their marker as 'X' or 'O'. Think about using *while* loops to continually ask until you get a correct answer.**"
   ]
  },
  {
   "cell_type": "code",
   "execution_count": 5,
   "metadata": {},
   "outputs": [],
   "source": [
    "def player_input():\n",
    "    playerMarker = ''\n",
    "    \n",
    "    while playerMarker not in ['O', 'X']:\n",
    "        playerMarker = input(\"Choose a marker (O or X): \").upper()\n",
    "    \n",
    "    if playerMarker == 'X':\n",
    "        return ('X', 'O')\n",
    "    else:\n",
    "        return('O','X')"
   ]
  },
  {
   "cell_type": "markdown",
   "metadata": {},
   "source": [
    "**TEST Step 2:** run the function to make sure it returns the desired output"
   ]
  },
  {
   "cell_type": "code",
   "execution_count": 6,
   "metadata": {},
   "outputs": [
    {
     "name": "stdout",
     "output_type": "stream",
     "text": [
      "Choose a marker (O or X): O\n"
     ]
    },
    {
     "data": {
      "text/plain": [
       "('O', 'X')"
      ]
     },
     "execution_count": 6,
     "metadata": {},
     "output_type": "execute_result"
    }
   ],
   "source": [
    "player_input()"
   ]
  },
  {
   "cell_type": "markdown",
   "metadata": {},
   "source": [
    "**Step 3: Write a function that takes in the board list object, a marker ('X' or 'O'), and a desired position (number 1-9) and assigns it to the board.**"
   ]
  },
  {
   "cell_type": "code",
   "execution_count": 13,
   "metadata": {},
   "outputs": [],
   "source": [
    "def place_marker(board, marker, position):\n",
    "    board[position] = marker"
   ]
  },
  {
   "cell_type": "markdown",
   "metadata": {},
   "source": [
    "**TEST Step 3:** run the place marker function using test parameters and display the modified board"
   ]
  },
  {
   "cell_type": "code",
   "execution_count": 26,
   "metadata": {},
   "outputs": [
    {
     "name": "stdout",
     "output_type": "stream",
     "text": [
      "X | O | X\n",
      "O | # | O\n",
      "X | O | X\n"
     ]
    }
   ],
   "source": [
    "place_marker(test_board,'#',5)\n",
    "display_board(test_board)"
   ]
  },
  {
   "cell_type": "markdown",
   "metadata": {},
   "source": [
    "**Step 4: Write a function that takes in a board and a mark (X or O) and then checks to see if that mark has won. **"
   ]
  },
  {
   "cell_type": "code",
   "execution_count": 14,
   "metadata": {},
   "outputs": [],
   "source": [
    "def win_check(board, mark):\n",
    "    return (\n",
    "        # HORIZONTAL WINS\n",
    "        (board[7] == mark and board[8] == mark and board[9]== mark) or\n",
    "        (board[4] == mark and board[5] == mark and board[6]== mark) or\n",
    "        (board[1] == mark and board[2] == mark and board[3]== mark) or\n",
    "        # VERTICAL WINS\n",
    "        (board[7] == mark and board[4] == mark and board[1]== mark) or\n",
    "        (board[8] == mark and board[5] == mark and board[2]== mark) or\n",
    "        (board[9] == mark and board[6] == mark and board[3]== mark) or\n",
    "        # DIAGONAL WINS\n",
    "        (board[1] == mark and board[5] == mark and board[9]== mark) or\n",
    "        (board[9] == mark and board[5] == mark and board[1]== mark)\n",
    "    )"
   ]
  },
  {
   "cell_type": "markdown",
   "metadata": {},
   "source": [
    "**TEST Step 4:** run the win_check function against our test_board - it should return True"
   ]
  },
  {
   "cell_type": "code",
   "execution_count": 15,
   "metadata": {},
   "outputs": [
    {
     "data": {
      "text/plain": [
       "True"
      ]
     },
     "execution_count": 15,
     "metadata": {},
     "output_type": "execute_result"
    }
   ],
   "source": [
    "win_check(test_board,'O')"
   ]
  },
  {
   "cell_type": "markdown",
   "metadata": {},
   "source": [
    "**Step 5: Write a function that uses the random module to randomly decide which player goes first. You may want to lookup random.randint() Return a string of which player went first.**"
   ]
  },
  {
   "cell_type": "code",
   "execution_count": 27,
   "metadata": {},
   "outputs": [],
   "source": [
    "import random\n",
    "\n",
    "def choose_first():\n",
    "    randomNum = random.randint(1,2)\n",
    "    if randomNum == 1:\n",
    "        return 'Player 1'\n",
    "    else:\n",
    "        return 'Player 2'"
   ]
  },
  {
   "cell_type": "markdown",
   "metadata": {},
   "source": [
    "**Step 6: Write a function that returns a boolean indicating whether a space on the board is freely available.**"
   ]
  },
  {
   "cell_type": "code",
   "execution_count": 17,
   "metadata": {},
   "outputs": [],
   "source": [
    "def space_check(board, position):\n",
    "    return board[position] == ''"
   ]
  },
  {
   "cell_type": "markdown",
   "metadata": {},
   "source": [
    "**Step 7: Write a function that checks if the board is full and returns a boolean value. True if full, False otherwise.**"
   ]
  },
  {
   "cell_type": "code",
   "execution_count": 34,
   "metadata": {},
   "outputs": [],
   "source": [
    "def full_board_check(board):\n",
    "    for i in range(1,10):\n",
    "        if space_check(board,i):\n",
    "            return False\n",
    "    return True"
   ]
  },
  {
   "cell_type": "markdown",
   "metadata": {},
   "source": [
    "**Step 8: Write a function that asks for a player's next position (as a number 1-9) and then uses the function from step 6 to check if it's a free position. If it is, then return the position for later use.**"
   ]
  },
  {
   "cell_type": "code",
   "execution_count": 36,
   "metadata": {},
   "outputs": [],
   "source": [
    "def player_choice(board):\n",
    "    position = 0\n",
    "    \n",
    "    while position not in range(1,10) or not space_check(board,position):\n",
    "        position = int(input(\"Choose your next step: (1-9)\"))\n",
    "    \n",
    "    return position \n",
    "    "
   ]
  },
  {
   "cell_type": "markdown",
   "metadata": {},
   "source": [
    "**Step 9: Write a function that asks the player if they want to play again and returns a boolean True if they do want to play again.**"
   ]
  },
  {
   "cell_type": "code",
   "execution_count": 20,
   "metadata": {},
   "outputs": [],
   "source": [
    "def replay():\n",
    "    choice = 'WRONG'\n",
    "    \n",
    "    while choice not in ['Y', 'N']:\n",
    "        choice = input(\"Play Again (Y or N): \")\n",
    "    return choice == 'Y'"
   ]
  },
  {
   "cell_type": "markdown",
   "metadata": {
    "collapsed": true
   },
   "source": [
    "**Step 10: Here comes the hard part! Use while loops and the functions you've made to run the game!**"
   ]
  },
  {
   "cell_type": "markdown",
   "metadata": {},
   "source": [
    "# Tic Tac Toe"
   ]
  },
  {
   "cell_type": "code",
   "execution_count": 37,
   "metadata": {},
   "outputs": [
    {
     "name": "stdout",
     "output_type": "stream",
     "text": [
      "Welcome to Tic Tac Toe!\n",
      " |  | \n",
      " |  | \n",
      " |  | \n",
      "Choose a marker (O or X): O\n",
      "Player 1 will go first\n",
      "Ready to play?: Y or NY\n",
      " |  | \n",
      " |  | \n",
      " |  | \n",
      "Choose your next step: (1-9)9\n",
      " |  | O\n",
      " |  | \n",
      " |  | \n",
      "Choose your next step: (1-9)1\n",
      " |  | O\n",
      " |  | \n",
      "X |  | \n",
      "Choose your next step: (1-9)5\n",
      " |  | O\n",
      " | O | \n",
      "X |  | \n",
      "Choose your next step: (1-9)7\n",
      "X |  | O\n",
      " | O | \n",
      "X |  | \n",
      "Choose your next step: (1-9)4\n",
      "X |  | O\n",
      "O | O | \n",
      "X |  | \n",
      "Choose your next step: (1-9)6\n",
      "X |  | O\n",
      "O | O | X\n",
      "X |  | \n",
      "Choose your next step: (1-9)3\n",
      "X |  | O\n",
      "O | O | X\n",
      "X |  | O\n",
      "Choose your next step: (1-9)2\n",
      "X |  | O\n",
      "O | O | X\n",
      "X | X | O\n",
      "Choose your next step: (1-9)8\n"
     ]
    },
    {
     "data": {
      "text/plain": [
       "['', 'X', 'X', 'O', 'O', 'O', 'X', 'X', 'O', 'O']"
      ]
     },
     "metadata": {},
     "output_type": "display_data"
    },
    {
     "name": "stdout",
     "output_type": "stream",
     "text": [
      "Tie Game\n",
      "Play Again (Y or N): N\n"
     ]
    }
   ],
   "source": [
    "print('Welcome to Tic Tac Toe!')\n",
    "\n",
    "while True:\n",
    "    # Set the game up here\n",
    "    board = ['']*10\n",
    "    display_board(board)\n",
    "    \n",
    "    player1_marker, player2_marker = player_input()\n",
    "    \n",
    "    turn = choose_first()\n",
    "    print(turn + ' will go first')\n",
    "    \n",
    "    play_game = input('Ready to play?: Y or N')\n",
    "    \n",
    "    if play_game == 'Y':\n",
    "        game_on = True\n",
    "    else:\n",
    "        game_on = False\n",
    "\n",
    "    while game_on:\n",
    "        #Player 1 Turn\n",
    "        if turn == 'Player 1':\n",
    "            # Show the board\n",
    "            display_board(board)\n",
    "            \n",
    "            # Choose a position\n",
    "            position = player_choice(board)\n",
    "            \n",
    "            # Place the marker on the position\n",
    "            place_marker(board, player1_marker,position)\n",
    "            \n",
    "            # Check if they won\n",
    "            if win_check(board, player1_marker):\n",
    "                display_board(board)\n",
    "                print('Player 1 has won')\n",
    "                game_on = False\n",
    "            # Check if a tie\n",
    "            else:\n",
    "                if full_board_check(board):\n",
    "                    display_board(board)\n",
    "                    print('Tie Game')\n",
    "                    game_on = False\n",
    "                else: \n",
    "                    turn = 'Player 2'\n",
    "            \n",
    "        # Player2's turn.\n",
    "        else:\n",
    "             # Show the board\n",
    "            display_board(board)\n",
    "            \n",
    "            # Choose a position\n",
    "            position = player_choice(board)\n",
    "            \n",
    "            # Place the marker on the position\n",
    "            place_marker(board, player2_marker,position)\n",
    "            \n",
    "            # Check if they won\n",
    "            if win_check(board, player2_marker):\n",
    "                display_board(board)\n",
    "                print('Player 2 has won')\n",
    "                game_on = False\n",
    "            # Check if a tie\n",
    "            else:\n",
    "                if full_board_check(board):\n",
    "                    display(board)\n",
    "                    print('Tie Game')\n",
    "                    game_on = False\n",
    "                else: \n",
    "                    turn = 'Player 1'\n",
    "    if not replay():\n",
    "        break"
   ]
  },
  {
   "cell_type": "markdown",
   "metadata": {
    "collapsed": true
   },
   "source": [
    "## Good Job!"
   ]
  }
 ],
 "metadata": {
  "kernelspec": {
   "display_name": "Python 3 (ipykernel)",
   "language": "python",
   "name": "python3"
  },
  "language_info": {
   "codemirror_mode": {
    "name": "ipython",
    "version": 3
   },
   "file_extension": ".py",
   "mimetype": "text/x-python",
   "name": "python",
   "nbconvert_exporter": "python",
   "pygments_lexer": "ipython3",
   "version": "3.9.7"
  }
 },
 "nbformat": 4,
 "nbformat_minor": 1
}
