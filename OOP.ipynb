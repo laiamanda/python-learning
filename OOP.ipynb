{
 "cells": [
  {
   "cell_type": "code",
   "execution_count": 38,
   "id": "b70b86f6",
   "metadata": {},
   "outputs": [],
   "source": [
    "class Dog():\n",
    "    # CLASS OBJECT ATTRIBUTE\n",
    "    # SAME FOR ANY INSTANCE OF THE CLASS\n",
    "    species = 'mammal'\n",
    "    def __init__(self, mybreed, name, spots):\n",
    "        # Attributes\n",
    "        # We take in an argument\n",
    "        # Assign it using the self attributes\n",
    "        \n",
    "        self.breed = mybreed\n",
    "        self.name = name\n",
    "        \n",
    "        # Expect a boolean\n",
    "        self.spots = spots\n",
    "        \n",
    "    # OPERATIONS/ACTIONS --> Methods\n",
    "    def bark(self, number):\n",
    "        print(\"BARK BARK BARK! My name is {} and I'm {}\".format(self.name, number))"
   ]
  },
  {
   "cell_type": "code",
   "execution_count": 39,
   "id": "a3989e8c",
   "metadata": {},
   "outputs": [],
   "source": [
    "myDog = Dog(mybreed=\"Shiba\", name=\"Mochi\", spots=False)"
   ]
  },
  {
   "cell_type": "code",
   "execution_count": 18,
   "id": "22991824",
   "metadata": {},
   "outputs": [
    {
     "data": {
      "text/plain": [
       "__main__.Sample"
      ]
     },
     "execution_count": 18,
     "metadata": {},
     "output_type": "execute_result"
    }
   ],
   "source": [
    "type(mysample)"
   ]
  },
  {
   "cell_type": "code",
   "execution_count": 23,
   "id": "2f013d30",
   "metadata": {},
   "outputs": [
    {
     "data": {
      "text/plain": [
       "'Shiba'"
      ]
     },
     "execution_count": 23,
     "metadata": {},
     "output_type": "execute_result"
    }
   ],
   "source": [
    "myDog.breed"
   ]
  },
  {
   "cell_type": "code",
   "execution_count": 34,
   "id": "754dd266",
   "metadata": {},
   "outputs": [
    {
     "data": {
      "text/plain": [
       "'Mochi'"
      ]
     },
     "execution_count": 34,
     "metadata": {},
     "output_type": "execute_result"
    }
   ],
   "source": [
    "myDog.name"
   ]
  },
  {
   "cell_type": "code",
   "execution_count": 26,
   "id": "1548d211",
   "metadata": {},
   "outputs": [
    {
     "data": {
      "text/plain": [
       "False"
      ]
     },
     "execution_count": 26,
     "metadata": {},
     "output_type": "execute_result"
    }
   ],
   "source": [
    "myDog.spots"
   ]
  },
  {
   "cell_type": "code",
   "execution_count": 29,
   "id": "ce99ccb8",
   "metadata": {},
   "outputs": [
    {
     "data": {
      "text/plain": [
       "'mammal'"
      ]
     },
     "execution_count": 29,
     "metadata": {},
     "output_type": "execute_result"
    }
   ],
   "source": [
    "myDog.species"
   ]
  },
  {
   "cell_type": "code",
   "execution_count": 40,
   "id": "341eb919",
   "metadata": {},
   "outputs": [
    {
     "name": "stdout",
     "output_type": "stream",
     "text": [
      "BARK BARK BARK! My name is Mochi and I'm 8\n"
     ]
    }
   ],
   "source": [
    "myDog.bark(8)"
   ]
  },
  {
   "cell_type": "code",
   "execution_count": null,
   "id": "c42ab0c4",
   "metadata": {},
   "outputs": [],
   "source": []
  },
  {
   "cell_type": "code",
   "execution_count": 64,
   "id": "109c6a5d",
   "metadata": {},
   "outputs": [],
   "source": [
    "class Circle():\n",
    "    # CLASS OBJECT ATTRIBUTE\n",
    "    pi = 3.14\n",
    "    \n",
    "    def __init__(self,radius=1):\n",
    "        self.radius = radius\n",
    "        self.area = radius * radius * Circle.pi\n",
    "    # METHODS\n",
    "    def get_circumference(self):\n",
    "        return self.radius * self.pi * 2"
   ]
  },
  {
   "cell_type": "code",
   "execution_count": 65,
   "id": "d4792674",
   "metadata": {},
   "outputs": [],
   "source": [
    "my_circle = Circle(30)"
   ]
  },
  {
   "cell_type": "code",
   "execution_count": 66,
   "id": "ad3a705d",
   "metadata": {},
   "outputs": [
    {
     "data": {
      "text/plain": [
       "3.14"
      ]
     },
     "execution_count": 66,
     "metadata": {},
     "output_type": "execute_result"
    }
   ],
   "source": [
    "my_circle.pi"
   ]
  },
  {
   "cell_type": "code",
   "execution_count": 67,
   "id": "72b6bbfb",
   "metadata": {},
   "outputs": [
    {
     "data": {
      "text/plain": [
       "188.4"
      ]
     },
     "execution_count": 67,
     "metadata": {},
     "output_type": "execute_result"
    }
   ],
   "source": [
    "my_circle.get_circumference()"
   ]
  },
  {
   "cell_type": "code",
   "execution_count": 68,
   "id": "a402b76e",
   "metadata": {},
   "outputs": [
    {
     "data": {
      "text/plain": [
       "2826.0"
      ]
     },
     "execution_count": 68,
     "metadata": {},
     "output_type": "execute_result"
    }
   ],
   "source": [
    "my_circle.area"
   ]
  },
  {
   "cell_type": "code",
   "execution_count": null,
   "id": "fc45f576",
   "metadata": {},
   "outputs": [],
   "source": []
  },
  {
   "cell_type": "code",
   "execution_count": 2,
   "id": "69f2f69d",
   "metadata": {},
   "outputs": [],
   "source": [
    "class Animal():\n",
    "    def __init__(self):\n",
    "        print(\"Animal Created\")\n",
    "    def who_am_i(self):\n",
    "        print(\"I am an animal\")\n",
    "    def eat(self):\n",
    "        print(\"I'm eating\")"
   ]
  },
  {
   "cell_type": "code",
   "execution_count": 3,
   "id": "9876bed2",
   "metadata": {},
   "outputs": [
    {
     "name": "stdout",
     "output_type": "stream",
     "text": [
      "Animal Created\n"
     ]
    }
   ],
   "source": [
    "myanimal = Animal()"
   ]
  },
  {
   "cell_type": "code",
   "execution_count": 71,
   "id": "5d34a83a",
   "metadata": {},
   "outputs": [
    {
     "name": "stdout",
     "output_type": "stream",
     "text": [
      "I'm eating\n"
     ]
    }
   ],
   "source": [
    "myanimal.eat()"
   ]
  },
  {
   "cell_type": "code",
   "execution_count": 17,
   "id": "27dc1727",
   "metadata": {},
   "outputs": [],
   "source": [
    "class Dog(Animal):\n",
    "    def __init__(self):\n",
    "        Animal.__init__(self)\n",
    "        print(\"DOG CREATED\")\n",
    "    def who_am_i(self):\n",
    "        print('I A DOG')\n",
    "    def bark(self):\n",
    "        print('wooof!')"
   ]
  },
  {
   "cell_type": "code",
   "execution_count": 18,
   "id": "39468420",
   "metadata": {},
   "outputs": [
    {
     "name": "stdout",
     "output_type": "stream",
     "text": [
      "Animal Created\n"
     ]
    }
   ],
   "source": [
    "myAnimal = Animal()"
   ]
  },
  {
   "cell_type": "code",
   "execution_count": 19,
   "id": "eaf325ea",
   "metadata": {},
   "outputs": [
    {
     "name": "stdout",
     "output_type": "stream",
     "text": [
      "Animal Created\n",
      "DOG CREATED\n"
     ]
    }
   ],
   "source": [
    "myDog = Dog()"
   ]
  },
  {
   "cell_type": "code",
   "execution_count": 12,
   "id": "e9491fa3",
   "metadata": {},
   "outputs": [
    {
     "name": "stdout",
     "output_type": "stream",
     "text": [
      "I'm eating\n"
     ]
    }
   ],
   "source": [
    "myDog.eat()"
   ]
  },
  {
   "cell_type": "code",
   "execution_count": 16,
   "id": "6004d0f3",
   "metadata": {},
   "outputs": [
    {
     "name": "stdout",
     "output_type": "stream",
     "text": [
      "I A DOG\n"
     ]
    }
   ],
   "source": [
    "myDog.who_am_i()"
   ]
  },
  {
   "cell_type": "code",
   "execution_count": 20,
   "id": "9d7b508c",
   "metadata": {},
   "outputs": [
    {
     "name": "stdout",
     "output_type": "stream",
     "text": [
      "wooof!\n"
     ]
    }
   ],
   "source": [
    "myDog.bark()"
   ]
  },
  {
   "cell_type": "code",
   "execution_count": 25,
   "id": "19297dbc",
   "metadata": {},
   "outputs": [],
   "source": [
    "class Dog():\n",
    "    def __init__(self, name):\n",
    "        self.name = name\n",
    "    def speak(self):\n",
    "        return self.name + \" SAYS BARK\""
   ]
  },
  {
   "cell_type": "code",
   "execution_count": 26,
   "id": "bb8a590d",
   "metadata": {},
   "outputs": [],
   "source": [
    "class Cat():\n",
    "    def __init__(self, name):\n",
    "        self.name = name\n",
    "    def speak(self):\n",
    "        return self.name + \" SAYS MEOW\""
   ]
  },
  {
   "cell_type": "code",
   "execution_count": 27,
   "id": "937ac0a7",
   "metadata": {},
   "outputs": [],
   "source": [
    "mochi = Dog(\"mochi\")\n",
    "ren = Cat(\"Ren\")"
   ]
  },
  {
   "cell_type": "code",
   "execution_count": 28,
   "id": "eec4b986",
   "metadata": {},
   "outputs": [
    {
     "name": "stdout",
     "output_type": "stream",
     "text": [
      "mochi SAYS BARK\n",
      "Ren SAYS MEOW\n"
     ]
    }
   ],
   "source": [
    "print(mochi.speak())\n",
    "print(ren.speak())"
   ]
  },
  {
   "cell_type": "code",
   "execution_count": 29,
   "id": "4c2beb6f",
   "metadata": {},
   "outputs": [
    {
     "name": "stdout",
     "output_type": "stream",
     "text": [
      "<class '__main__.Dog'>\n",
      "<class 'str'>\n",
      "<class '__main__.Cat'>\n",
      "<class 'str'>\n"
     ]
    }
   ],
   "source": [
    "for pet in [mochi, ren]:\n",
    "    print(type(pet))\n",
    "    print(type(pet.speak()))"
   ]
  },
  {
   "cell_type": "code",
   "execution_count": 30,
   "id": "147488d5",
   "metadata": {},
   "outputs": [],
   "source": [
    "class Animal():\n",
    "    def __init__(self, name):\n",
    "        self.name = name\n",
    "    def speak(self):\n",
    "        raise NotImplementedError(\"Subclass must implement this abstract method\")"
   ]
  },
  {
   "cell_type": "code",
   "execution_count": 31,
   "id": "3174bd2c",
   "metadata": {},
   "outputs": [],
   "source": [
    "class Dog(Animal):\n",
    "    def speak(self):\n",
    "        return self.name + \" says bark\""
   ]
  },
  {
   "cell_type": "code",
   "execution_count": 32,
   "id": "e0eb99ac",
   "metadata": {},
   "outputs": [],
   "source": [
    "class Cat(Animal):\n",
    "    def speak(self):\n",
    "        return self.name + \" says meow\""
   ]
  },
  {
   "cell_type": "code",
   "execution_count": 33,
   "id": "9bb4ae73",
   "metadata": {},
   "outputs": [],
   "source": [
    "mochi = Dog('Mochi')"
   ]
  },
  {
   "cell_type": "code",
   "execution_count": 34,
   "id": "2d61e095",
   "metadata": {},
   "outputs": [],
   "source": [
    "ren = Cat('Ren')"
   ]
  },
  {
   "cell_type": "code",
   "execution_count": 35,
   "id": "489235fc",
   "metadata": {},
   "outputs": [
    {
     "name": "stdout",
     "output_type": "stream",
     "text": [
      "Mochi says bark\n"
     ]
    }
   ],
   "source": [
    "print(mochi.speak())"
   ]
  },
  {
   "cell_type": "code",
   "execution_count": 36,
   "id": "bcd49bda",
   "metadata": {},
   "outputs": [
    {
     "name": "stdout",
     "output_type": "stream",
     "text": [
      "Ren says meow\n"
     ]
    }
   ],
   "source": [
    "print(ren.speak())"
   ]
  },
  {
   "cell_type": "code",
   "execution_count": null,
   "id": "f049a278",
   "metadata": {},
   "outputs": [],
   "source": []
  },
  {
   "cell_type": "code",
   "execution_count": 1,
   "id": "c0864992",
   "metadata": {},
   "outputs": [
    {
     "data": {
      "text/plain": [
       "3"
      ]
     },
     "execution_count": 1,
     "metadata": {},
     "output_type": "execute_result"
    }
   ],
   "source": [
    "mylist = [1,2,3]\n",
    "\n",
    "len(mylist)"
   ]
  },
  {
   "cell_type": "code",
   "execution_count": 31,
   "id": "1b38155d",
   "metadata": {},
   "outputs": [],
   "source": [
    "class Book():\n",
    "    def __init__(self, title, author, pages):\n",
    "        self.title = title\n",
    "        self.author = author\n",
    "        self.pages = pages\n",
    "    def __str__(self):\n",
    "        return f\"{self.title} by {self.author}\"\n",
    "    def __len__(self):\n",
    "        return self.pages\n",
    "    def __del__(self):\n",
    "        print(\"A book has been deleted\")"
   ]
  },
  {
   "cell_type": "code",
   "execution_count": 32,
   "id": "e4a9b46a",
   "metadata": {},
   "outputs": [
    {
     "name": "stdout",
     "output_type": "stream",
     "text": [
      "Python by Black Mamba\n"
     ]
    }
   ],
   "source": [
    "b = Book('Python', 'Black Mamba', 200)\n",
    "print(b)"
   ]
  },
  {
   "cell_type": "code",
   "execution_count": 33,
   "id": "a23b2405",
   "metadata": {},
   "outputs": [
    {
     "data": {
      "text/plain": [
       "'Python by Black Mamba'"
      ]
     },
     "execution_count": 33,
     "metadata": {},
     "output_type": "execute_result"
    }
   ],
   "source": [
    "str(b)"
   ]
  },
  {
   "cell_type": "code",
   "execution_count": 34,
   "id": "dc8d0152",
   "metadata": {},
   "outputs": [
    {
     "data": {
      "text/plain": [
       "200"
      ]
     },
     "execution_count": 34,
     "metadata": {},
     "output_type": "execute_result"
    }
   ],
   "source": [
    "len(b)"
   ]
  },
  {
   "cell_type": "code",
   "execution_count": 35,
   "id": "6d891b74",
   "metadata": {},
   "outputs": [
    {
     "name": "stdout",
     "output_type": "stream",
     "text": [
      "A book has been deleted\n"
     ]
    }
   ],
   "source": [
    "del b # delete variable from memory"
   ]
  },
  {
   "cell_type": "code",
   "execution_count": null,
   "id": "32c21f27",
   "metadata": {},
   "outputs": [],
   "source": []
  }
 ],
 "metadata": {
  "kernelspec": {
   "display_name": "Python 3 (ipykernel)",
   "language": "python",
   "name": "python3"
  },
  "language_info": {
   "codemirror_mode": {
    "name": "ipython",
    "version": 3
   },
   "file_extension": ".py",
   "mimetype": "text/x-python",
   "name": "python",
   "nbconvert_exporter": "python",
   "pygments_lexer": "ipython3",
   "version": "3.9.7"
  }
 },
 "nbformat": 4,
 "nbformat_minor": 5
}
